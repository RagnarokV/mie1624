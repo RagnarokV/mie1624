{
 "cells": [
  {
   "cell_type": "code",
   "execution_count": 1,
   "metadata": {},
   "outputs": [
    {
     "name": "stderr",
     "output_type": "stream",
     "text": [
      "[nltk_data] Downloading package stopwords to\n",
      "[nltk_data]     /Users/ragnarok/nltk_data...\n",
      "[nltk_data]   Package stopwords is already up-to-date!\n",
      "[nltk_data] Downloading package punkt to /Users/ragnarok/nltk_data...\n",
      "[nltk_data]   Package punkt is already up-to-date!\n",
      "[nltk_data] Downloading package wordnet to\n",
      "[nltk_data]     /Users/ragnarok/nltk_data...\n",
      "[nltk_data]   Package wordnet is already up-to-date!\n"
     ]
    }
   ],
   "source": [
    "import requests\n",
    "from bs4 import BeautifulSoup\n",
    "import pandas as pd\n",
    "\n",
    "import os\n",
    "#import re package for the use of regular expressions\n",
    "import re\n",
    "#import package for string handling\n",
    "import string\n",
    "try:\n",
    "    import emoji #If tweepy is already installed on the system\n",
    "except:\n",
    "    !pip install emoji\n",
    "\n",
    "#import nltk package for text processing\n",
    "import nltk\n",
    "nltk.download('stopwords')\n",
    "nltk.download('punkt')\n",
    "nltk.download('wordnet')\n",
    "from nltk.corpus import stopwords\n",
    "from nltk.tokenize import word_tokenize\n",
    "from nltk.stem.porter import PorterStemmer\n",
    "\n",
    "import numpy as np\n",
    "try:\n",
    "    from wordcloud import WordCloud, STOPWORDS\n",
    "except:\n",
    "    !pip install wordcloud\n",
    "    from wordcloud import WordCloud, STOPWORDS\n",
    "import matplotlib.pyplot as plt\n",
    "\n",
    "from scipy.spatial.distance import pdist, squareform\n",
    "from scipy.cluster.hierarchy import linkage, dendrogram\n",
    "from sklearn.metrics import pairwise_distances\n",
    "import unicodedata"
   ]
  },
  {
   "cell_type": "code",
   "execution_count": 2,
   "metadata": {},
   "outputs": [],
   "source": [
    "job_listings_url_1 = 'https://www.classcentral.com/search?q=programming&sort=rating-up&subject=data-science'\n",
    "job_listings_url_2 = 'https://www.classcentral.com/search?page=2&q=programming&sort=rating-up&subject=data-science'\n",
    "job_listings_url_3 = 'https://www.classcentral.com/search?page=3&q=programming&sort=rating-up&subject=data-science'\n",
    "job_listings_url_4 = 'https://www.classcentral.com/search?page=4&q=programming&sort=rating-up&subject=data-science'\n",
    "\n",
    "response = requests.get(job_listings_url_1)\n",
    "listingSoup_1 = BeautifulSoup(response.text, 'html.parser')\n",
    "\n",
    "response = requests.get(job_listings_url_2)\n",
    "listingSoup_2 = BeautifulSoup(response.text, 'html.parser')\n",
    "\n",
    "response = requests.get(job_listings_url_3)\n",
    "listingSoup_3 = BeautifulSoup(response.text, 'html.parser')\n",
    "\n",
    "response = requests.get(job_listings_url_4)\n",
    "listingSoup_4 = BeautifulSoup(response.text, 'html.parser')"
   ]
  },
  {
   "cell_type": "code",
   "execution_count": 3,
   "metadata": {
    "scrolled": true
   },
   "outputs": [
    {
     "name": "stdout",
     "output_type": "stream",
     "text": [
      "173\n"
     ]
    },
    {
     "data": {
      "text/plain": [
       "['https://www.classcentral.com/course/independent-dco042-python-for-informatics-1010',\n",
       " 'https://www.classcentral.com/course/udacity-data-analysis-with-r-1478',\n",
       " 'https://www.classcentral.com/course/edx-introduction-to-computational-thinking-and-data-science-1779',\n",
       " 'https://www.classcentral.com/course/swayam-python-for-data-science-14266',\n",
       " 'https://www.classcentral.com/course/edx-big-data-analysis-with-apache-spark-3026',\n",
       " 'https://www.classcentral.com/course/edx-data-science-r-basics-9253',\n",
       " 'https://www.classcentral.com/course/edx-foundations-of-data-science-computational-thinking-with-python-10319',\n",
       " 'https://www.classcentral.com/course/comparinggenomes-3291',\n",
       " 'https://www.classcentral.com/course/bigdataschool-2482',\n",
       " 'https://www.classcentral.com/course/edx-quantitative-biology-workshop-1984',\n",
       " 'https://www.classcentral.com/course/data-mining-with-weka-7805',\n",
       " 'https://www.classcentral.com/course/independent-advanced-data-mining-with-weka-6146',\n",
       " 'https://www.classcentral.com/course/datacamp-intro-to-python-for-data-science-7631',\n",
       " 'https://www.classcentral.com/course/edx-data-science-visualization-10347',\n",
       " 'https://www.classcentral.com/course/dataanalysis-386',\n",
       " 'https://www.classcentral.com/course/edx-introduction-to-r-for-data-science-3928',\n",
       " 'https://www.classcentral.com/course/information-visualization-programming-d3-11817',\n",
       " 'https://www.classcentral.com/course/linear-models-6180',\n",
       " 'https://www.classcentral.com/course/data-science-8118',\n",
       " 'https://www.classcentral.com/course/information-visualization-advanced-techn-11818',\n",
       " 'https://www.classcentral.com/course/scicomp-764',\n",
       " 'https://www.classcentral.com/course/linear-models-2-7476',\n",
       " 'https://www.classcentral.com/course/edx-stochastic-processes-data-analysis-and-computer-simulation-8246',\n",
       " 'https://www.classcentral.com/course/eduopen-data-mining-classification-7680',\n",
       " 'https://www.classcentral.com/course/france-universite-numerique-exploratory-multivariate-data-analysis-9936',\n",
       " 'https://www.classcentral.com/course/open-education-by-blackboard-python-for-informatics-exploring-information-795',\n",
       " 'https://www.classcentral.com/course/edx-ph525x-data-analysis-for-genomics-1615',\n",
       " 'https://www.classcentral.com/course/bd2klincs-3024',\n",
       " 'https://www.classcentral.com/course/big-data-integration-processing-6467',\n",
       " 'https://www.classcentral.com/course/programacion-estadistica-r-4657',\n",
       " 'https://www.classcentral.com/course/big-data-mathematical-modelling-5422',\n",
       " 'https://www.classcentral.com/course/big-data-visualisation-5423',\n",
       " 'https://www.classcentral.com/course/edx-programming-with-python-for-data-science-6471',\n",
       " 'https://www.classcentral.com/course/bioinformatics2-2290',\n",
       " 'https://www.classcentral.com/course/repdata-1716',\n",
       " 'https://www.classcentral.com/course/edx-analyzing-data-with-python-12531',\n",
       " 'https://www.classcentral.com/course/edx-high-dimensional-data-analysis-2949',\n",
       " 'https://www.classcentral.com/course/edx-introduction-to-python-for-data-science-5683',\n",
       " 'https://www.classcentral.com/course/social-media-data-analytics-7019',\n",
       " 'https://www.classcentral.com/course/big-data-analysys-6288',\n",
       " 'https://www.classcentral.com/course/python-for-applied-data-science-11194',\n",
       " 'https://www.classcentral.com/course/python-for-applied-data-science-ai-14403',\n",
       " 'https://www.classcentral.com/course/bioinformatics-745',\n",
       " 'https://www.classcentral.com/course/datacamp-introduction-to-r-7630',\n",
       " 'https://www.classcentral.com/course/futurelearn-learn-to-code-for-data-analysis-3997',\n",
       " 'https://www.classcentral.com/course/edx-fa19-deterministic-optimization-9947',\n",
       " 'https://www.classcentral.com/course/edx-explore-statistics-with-r-1836',\n",
       " 'https://www.classcentral.com/course/algobioprogramming-2291',\n",
       " 'https://www.classcentral.com/course/r-packages-7175',\n",
       " 'https://www.classcentral.com/course/cloud-applications-2-6309',\n",
       " 'https://www.classcentral.com/course/edx-introduction-to-apache-spark-5855',\n",
       " 'https://www.classcentral.com/course/sql-data-science-11067',\n",
       " 'https://www.classcentral.com/course/coursera-big-data-cloud-computing-cdn-emerging-technologies-3931',\n",
       " 'https://www.classcentral.com/course/gcp-big-data-ml-fundamentals-8234',\n",
       " 'https://www.classcentral.com/course/edx-statistics-and-r-2960',\n",
       " 'https://www.classcentral.com/course/edx-python-basics-for-data-science-12115',\n",
       " 'https://www.classcentral.com/course/sql-for-data-science-9725',\n",
       " 'https://www.classcentral.com/course/miriadax-analisis-estadistico-de-datos-con-r-1440',\n",
       " 'https://www.classcentral.com/course/swayam-data-science-for-engineers-10096',\n",
       " 'https://www.classcentral.com/course/edx-visualizing-data-with-python-12530',\n",
       " 'https://www.classcentral.com/course/open-source-tools-for-data-science-10620',\n",
       " 'https://www.classcentral.com/course/data-analytics-accountancy-1-9051',\n",
       " 'https://www.classcentral.com/course/edx-data-analysis-take-it-to-the-max-2916',\n",
       " 'https://www.classcentral.com/course/big-data-management-6466',\n",
       " 'https://www.classcentral.com/course/r-programming-environment-7170',\n",
       " 'https://www.classcentral.com/course/compdata-388',\n",
       " 'https://www.classcentral.com/course/edx-sp20-computing-for-data-analysis-8223',\n",
       " 'https://www.classcentral.com/course/data-manipulation-4473',\n",
       " 'https://www.classcentral.com/course/bigdata-454',\n",
       " 'https://www.classcentral.com/course/graph-analytics-4249',\n",
       " 'https://www.classcentral.com/course/genpython-3476',\n",
       " 'https://www.classcentral.com/course/intro-to-big-data-4164',\n",
       " 'https://www.classcentral.com/course/rprog-1713',\n",
       " 'https://www.classcentral.com/course/python-data-analysis-6671',\n",
       " 'https://www.classcentral.com/course/advanced-r-7174',\n",
       " 'https://www.classcentral.com/course/python-analysis-9551',\n",
       " 'https://www.classcentral.com/course/data-science-k-means-clustering-python-13623',\n",
       " 'https://www.classcentral.com/course/edx-data-science-for-construction-architecture-and-engineering-19193',\n",
       " 'https://www.classcentral.com/course/missing-data-6086',\n",
       " 'https://www.classcentral.com/course/edx-data-science-research-methods-r-edition-11640',\n",
       " 'https://www.classcentral.com/course/data-collection-analytics-project-6083',\n",
       " 'https://www.classcentral.com/course/intro-accounting-data-analytics-visual-14477',\n",
       " 'https://www.classcentral.com/course/gaming-big-data-11192',\n",
       " 'https://www.classcentral.com/course/sql-data-science-capstone-17298',\n",
       " 'https://www.classcentral.com/course/introduction-clinical-data-science-12837',\n",
       " 'https://www.classcentral.com/course/introduction-to-dplyr-17063',\n",
       " 'https://www.classcentral.com/course/python-visualization-9552',\n",
       " 'https://www.classcentral.com/course/statistics-project-6100',\n",
       " 'https://www.classcentral.com/course/python-for-data-science-11228',\n",
       " 'https://www.classcentral.com/course/datascimed-10645',\n",
       " 'https://www.classcentral.com/course/edx-programming-in-r-for-data-science-6038',\n",
       " 'https://www.classcentral.com/course/data-science-for-business-innovation-14369',\n",
       " 'https://www.classcentral.com/course/edx-programming-for-data-science-8162',\n",
       " 'https://www.classcentral.com/course/discrete-math-and-analyzing-social-graphs-17336',\n",
       " 'https://www.classcentral.com/course/mutations-3557',\n",
       " 'https://www.classcentral.com/course/ds-10631',\n",
       " 'https://www.classcentral.com/course/edx-iot-programming-and-big-data-9753',\n",
       " 'https://www.classcentral.com/course/pkubioinfo-1209',\n",
       " 'https://www.classcentral.com/course/python-data-processing-7751',\n",
       " 'https://www.classcentral.com/course/edx-data-science-and-agile-systems-engineering-19101',\n",
       " 'https://www.classcentral.com/course/udacity-data-analysis-and-visualization-8566',\n",
       " 'https://www.classcentral.com/course/edx-dynamic-programming-applications-in-machine-learning-and-genomics-10249',\n",
       " 'https://www.classcentral.com/course/programming-for-data-science-nanodegree-with-R--n-18204',\n",
       " 'https://www.classcentral.com/course/programming-for-data-science-nanodegree--nd104-18224',\n",
       " 'https://www.classcentral.com/course/independent-statistical-computing-with-r-a-gentle-introduction-4545',\n",
       " 'https://www.classcentral.com/course/big-data-r-hadoop-8056',\n",
       " 'https://www.classcentral.com/course/edx-image-processing-and-analysis-for-life-scientists-12066',\n",
       " 'https://www.classcentral.com/course/thaimooc------python-programming-for-data-science-15293',\n",
       " 'https://www.classcentral.com/course/thaimooc---r------r-programming-for-data-science-15109',\n",
       " 'https://www.classcentral.com/course/edx-statistical-analysis-in-bioinformatics-8163',\n",
       " 'https://www.classcentral.com/course/serverless-machine-learning-gcp-8696',\n",
       " 'https://www.classcentral.com/course/harvardx-data-science-18421',\n",
       " 'https://www.classcentral.com/course/edx-analyzing-big-data-with-microsoft-r-7822',\n",
       " 'https://www.classcentral.com/course/code-free-data-science-13380',\n",
       " 'https://www.classcentral.com/course/r-capstone-7181',\n",
       " 'https://www.classcentral.com/course/edx-data-science-readiness-assessment-7995',\n",
       " 'https://www.classcentral.com/course/swayam-data-analysis-decision-making-iii-13981',\n",
       " 'https://www.classcentral.com/course/data-science-environmental-modelling-11806',\n",
       " 'https://www.classcentral.com/course/edx-learning-analytics-fundamentals-9283',\n",
       " 'https://www.classcentral.com/course/edx-big-data-analytics-8158',\n",
       " 'https://www.classcentral.com/course/data-science-foundations-r-18756',\n",
       " 'https://www.classcentral.com/course/swayam-bio-informatics-algorithms-and-applications-12890',\n",
       " 'https://www.classcentral.com/course/edx-big-data-fundamentals-8156',\n",
       " 'https://www.classcentral.com/course/bigdatabrasil-4537',\n",
       " 'https://www.classcentral.com/course/columbiax-data-science-for-executives-18406',\n",
       " 'https://www.classcentral.com/course/edx-sql-for-data-science-17900',\n",
       " 'https://www.classcentral.com/course/miriadax-curso-practico-de-bioestadistica-con-r-1437',\n",
       " 'https://www.classcentral.com/course/data-science-python-18916',\n",
       " 'https://www.classcentral.com/course/exploring-visualizing-iot-data-8022',\n",
       " 'https://www.classcentral.com/course/edx-essentials-of-data-literacy-17966',\n",
       " 'https://www.classcentral.com/course/swayam-data-analytics-with-python-17563',\n",
       " 'https://www.classcentral.com/course/edx-data-science-tools-17908',\n",
       " 'https://www.classcentral.com/course/microsoft-data-analysis-18453',\n",
       " 'https://www.classcentral.com/course/swayam-bioinformatics-algorithms-and-applications-10031',\n",
       " 'https://www.classcentral.com/course/edx-computational-thinking-and-big-data-8161',\n",
       " 'https://www.classcentral.com/course/introduction-data-science-18764',\n",
       " 'https://www.classcentral.com/course/executive-data-science-capstone-5088',\n",
       " 'https://www.classcentral.com/course/jhu-data-science-18692',\n",
       " 'https://www.classcentral.com/course/adelaidex-big-data-18320',\n",
       " 'https://www.classcentral.com/course/data-driven-decision-making-18277',\n",
       " 'https://www.classcentral.com/course/applied-data-science-18818',\n",
       " 'https://www.classcentral.com/course/microsoft-data-science-core-18462',\n",
       " 'https://www.classcentral.com/course/france-universite-numerique-numerique-et-recherche-en-sante-et-sciences-du-vivant-4511',\n",
       " 'https://www.classcentral.com/course/more-data-mining-with-weka-8389',\n",
       " 'https://www.classcentral.com/course/edx-knowledge-inference-and-structure-discovery-for-education-9288',\n",
       " 'https://www.classcentral.com/course/learn-sql-basics-data-science-18613',\n",
       " 'https://www.classcentral.com/course/data-science-engineering-apache-spark-18485',\n",
       " 'https://www.classcentral.com/course/berkeleyx-foundations-of-data-science-18422',\n",
       " 'https://www.classcentral.com/course/usmx-umgc-bioinformatics-18322',\n",
       " 'https://www.classcentral.com/course/usmx-umgc-bioinformatics-18322',\n",
       " 'https://www.classcentral.com/course/gtx-analytics-essential-tools-and-methods-18323',\n",
       " 'https://www.classcentral.com/course/bioinformatics-18829',\n",
       " 'https://www.classcentral.com/course/stepik----r-10534',\n",
       " 'https://www.classcentral.com/course/stepik----r--2-10540',\n",
       " 'https://www.classcentral.com/course/information-visualization-18898',\n",
       " 'https://www.classcentral.com/course/data-analysis-18648',\n",
       " 'https://www.classcentral.com/course/genomic-data-science-18700',\n",
       " 'https://www.classcentral.com/course/practical-data-science-matlab-18864',\n",
       " 'https://www.classcentral.com/course/big-data-18552',\n",
       " 'https://www.classcentral.com/course/ibm-data-science-18796',\n",
       " 'https://www.classcentral.com/course/swayam-scalable-data-science-14279',\n",
       " 'https://www.classcentral.com/course/mitx-statistics-and-data-science-18342',\n",
       " 'https://www.classcentral.com/course/data-scientist-nanodegree--nd025-18219',\n",
       " 'https://www.classcentral.com/course/clinical-data-science-18836',\n",
       " 'https://www.classcentral.com/course/data-science-18849',\n",
       " 'https://www.classcentral.com/course/plant-bioinformatic-methods-18763',\n",
       " 'https://www.classcentral.com/course/python-data-science-18393',\n",
       " 'https://www.classcentral.com/course/ibm-data-science-18394',\n",
       " 'https://www.classcentral.com/course/mathematics-for-data-science-18856',\n",
       " 'https://www.classcentral.com/course/advanced-data-science-ibm-18680',\n",
       " 'https://www.classcentral.com/course/gcp-data-machine-learning-18608',\n",
       " 'https://www.classcentral.com/course/executive-data-science-18529',\n",
       " 'https://www.classcentral.com/course/gcp-data-engineering-18598']"
      ]
     },
     "execution_count": 3,
     "metadata": {},
     "output_type": "execute_result"
    }
   ],
   "source": [
    "all_links_1 = listingSoup_1.find_all('a', attrs={'class': 'color-charcoal block line-tight course-name'})\n",
    "all_links_2 = listingSoup_2.find_all('a', attrs={'class': 'color-charcoal block line-tight course-name'})\n",
    "all_links_3 = listingSoup_3.find_all('a', attrs={'class': 'color-charcoal block line-tight course-name'})\n",
    "all_links_4 = listingSoup_4.find_all('a', attrs={'class': 'color-charcoal block line-tight course-name'})\n",
    "all_links = all_links_1 + all_links_2 + all_links_3 + all_links_4\n",
    "\n",
    "\n",
    "# Links are relative, of the form /course/course_number. Need to append this to main host name\n",
    "web_pages = ['https://www.classcentral.com' + link.get('href') for link in all_links]\n",
    "print(len(web_pages))\n",
    "web_pages"
   ]
  },
  {
   "cell_type": "code",
   "execution_count": null,
   "metadata": {},
   "outputs": [],
   "source": [
    "def getDescription(url):\n",
    "    response = requests.get(url)\n",
    "    jobSoup = BeautifulSoup(response.text, 'html.parser')\n",
    "    summary = jobSoup.find_all('div', attrs={'class': 'wysiwyg line-wide text-1 margin-bottom-large'})\n",
    "    return summary\n",
    "\n",
    "descriptions = [getDescription(page) for page in web_pages]"
   ]
  },
  {
   "cell_type": "code",
   "execution_count": null,
   "metadata": {},
   "outputs": [],
   "source": [
    "#all_stars = listingSoup.find_all('span', attrs = {'class': 'text-4 color-charcoal block'})[1:] #skip first, it's an ad\n",
    "#all_stars = [float(star.text) for star in all_stars]\n",
    "#print(len(all_stars))\n",
    "\n",
    "# 54 ratings instead of 50 because of fucking ads. Need to work on removing them later."
   ]
  },
  {
   "cell_type": "code",
   "execution_count": null,
   "metadata": {},
   "outputs": [],
   "source": [
    "all_descriptions = ['']*len(descriptions)\n",
    "for idx, each_job in enumerate(descriptions):\n",
    "    for description in each_job:\n",
    "        all_descriptions[idx] += description.text\n",
    "        \n",
    "for i in range(len(all_descriptions)):\n",
    "    all_descriptions[i] = all_descriptions[i].strip()\n",
    "    \n",
    "print(all_descriptions[0])"
   ]
  },
  {
   "cell_type": "code",
   "execution_count": null,
   "metadata": {},
   "outputs": [],
   "source": [
    "len(all_descriptions)"
   ]
  },
  {
   "cell_type": "code",
   "execution_count": null,
   "metadata": {},
   "outputs": [],
   "source": [
    "df_data = {'Link': web_pages, 'Description': all_descriptions}\n",
    "df = pd.DataFrame(df_data)\n",
    "df"
   ]
  },
  {
   "cell_type": "code",
   "execution_count": null,
   "metadata": {},
   "outputs": [],
   "source": [
    "def ProcessText(tweet):\n",
    "        \n",
    "    \n",
    "    #start by tokenize the tweet (separate it the text into words, or n-grams) with nltk\n",
    "    word_tokens = word_tokenize(tweet) \n",
    " \n",
    "    #convert text into lowercase\n",
    "    word_tokens = [word.lower() for word in word_tokens]\n",
    "    \n",
    "    #remove punctuation signs from tokens\n",
    "    table = str.maketrans('', '', string.punctuation)\n",
    "    word_tokens = [word.translate(table) for word in word_tokens]\n",
    "    \n",
    "    #remove non-alphabetic characters\n",
    "    word_tokens = [word for word in word_tokens if word.isalpha()]\n",
    "    \n",
    "    #remove stopwords\n",
    "    stop_words = set(stopwords.words('english')) #import a predefined set of stopwords from the nltk package\n",
    "    word_tokens = [word for word in word_tokens if not word in stop_words]\n",
    "\n",
    "    clean_tweet = [] #create empty list to store the final tokens after text processing\n",
    "    for w in word_tokens:\n",
    "        clean_tweet.append(w)\n",
    "\n",
    "    #join the tokens of the clean tweet back into a string with spaces in between\n",
    "    clean_tweet_str = ' '.join(clean_tweet)\n",
    "    \n",
    "    #return the clean tweet string\n",
    "    return clean_tweet_str  \n",
    "\n",
    "\n",
    "processedTextList = []\n",
    "for desc in df['Description']:\n",
    "    temp = ProcessText(desc)\n",
    "    processedTextList.append(temp)\n",
    "df['Processed Description'] = processedTextList"
   ]
  },
  {
   "cell_type": "code",
   "execution_count": null,
   "metadata": {},
   "outputs": [],
   "source": [
    "df['Processed Description'].head(3)"
   ]
  },
  {
   "cell_type": "code",
   "execution_count": null,
   "metadata": {},
   "outputs": [],
   "source": [
    "def generateWordCloud(strInput):\n",
    "    wordcloud = WordCloud(width = 800, height = 800, \n",
    "                    background_color ='white',  \n",
    "                    min_font_size = 10).generate(strInput) \n",
    "\n",
    "    # plot the WordCloud image                        \n",
    "    plt.figure(figsize = (8, 8), facecolor = 'black') \n",
    "    plt.imshow(wordcloud) \n",
    "    plt.axis(\"off\") \n",
    "    plt.tight_layout(pad = 0) \n",
    "\n",
    "    plt.show() \n",
    "    \n",
    "    \n",
    "strForWC = \"\"\n",
    "for desc in processedTextList:\n",
    "    for text in desc:\n",
    "        strForWC = strForWC + text\n",
    "\n",
    "generateWordCloud(strForWC)"
   ]
  },
  {
   "cell_type": "code",
   "execution_count": null,
   "metadata": {},
   "outputs": [],
   "source": [
    "strForWC = \"\"\n",
    "for desc in processedTextList:\n",
    "    wordList = desc.split()\n",
    "    for word in wordList:\n",
    "        if (word not in ['week','module','learn','week','using','data','course','use','tool', 'provide', 'example', \n",
    "                        'topic', 'understanding']):\n",
    "            strForWC = strForWC + word + ' '\n",
    "generateWordCloud(strForWC)"
   ]
  },
  {
   "cell_type": "markdown",
   "metadata": {},
   "source": [
    "### Constructing course curriculum from descriptions"
   ]
  },
  {
   "cell_type": "code",
   "execution_count": null,
   "metadata": {},
   "outputs": [],
   "source": [
    "# Based off ratings, this is the highest rated course with a good description Python\n",
    "\n",
    "df['Processed Description'][3]"
   ]
  },
  {
   "cell_type": "code",
   "execution_count": null,
   "metadata": {},
   "outputs": [],
   "source": [
    "python_skills = ['algorithm', 'structures', 'list', 'tuple', 'dictionary', 'array', 'numpy', 'linear', 'algebra', \n",
    "                'dataframe', 'pandas', 'analysis', 'preprocessing', 'visualization', 'matplotlib', 'plot', 'seaborn',\n",
    "                'libraries']\n"
   ]
  },
  {
   "cell_type": "code",
   "execution_count": null,
   "metadata": {},
   "outputs": [],
   "source": [
    "# Based off ratings, this is the highest rated course with a good description for R\n",
    "\n",
    "df['Processed Description'][5]"
   ]
  },
  {
   "cell_type": "code",
   "execution_count": null,
   "metadata": {},
   "outputs": [],
   "source": [
    "r_skills = ['exploratory', 'analysis', 'visualization', 'hypothesis', 'testing', 'rstudio', 'packages', \n",
    "            'distribution', 'anomalies', 'outliers', 'models', 'plots', 'variable', 'functions', 'wrangling', \n",
    "            'inference', 'dplyr']"
   ]
  },
  {
   "cell_type": "markdown",
   "metadata": {},
   "source": [
    "### Some general programming skills required"
   ]
  },
  {
   "cell_type": "code",
   "execution_count": null,
   "metadata": {},
   "outputs": [],
   "source": [
    "programming_skills = ['git', 'github', 'version', 'control']"
   ]
  },
  {
   "cell_type": "code",
   "execution_count": null,
   "metadata": {},
   "outputs": [],
   "source": [
    "skills = python_skills + r_skills + programming_skills"
   ]
  },
  {
   "cell_type": "code",
   "execution_count": null,
   "metadata": {},
   "outputs": [],
   "source": [
    "def detect_tool(table, concepts):\n",
    "    # Initialize a word frequency table\n",
    "    concept_table=pd.DataFrame(columns = concepts, index=range(len(table)), dtype=int)\n",
    "    \n",
    "    for concept in concepts:\n",
    "        concept_table[concept] = np.zeros(len(concept_table))\n",
    "        \n",
    "    # Phrase detector\n",
    "    for i in range(len(table)):\n",
    "        text = table.iloc[i]\n",
    "        \n",
    "        # Extract the common concepts and calculate the word frequency\n",
    "        for concept in concepts:\n",
    "            if (re.findall(re.escape(concept), str(text)) != []):\n",
    "                concept_table.loc[i, concept]=int(len(re.findall(re.escape(concept), text)))\n",
    "    \n",
    "    return concept_table\n",
    "\n",
    "df_concepts = detect_tool(df['Processed Description'], skills)\n",
    "\n",
    "df_concepts"
   ]
  },
  {
   "cell_type": "code",
   "execution_count": null,
   "metadata": {},
   "outputs": [],
   "source": [
    "df_concepts = df_concepts.loc[:, (df_concepts != 0).any(axis=0)]"
   ]
  },
  {
   "cell_type": "markdown",
   "metadata": {},
   "source": [
    "### Clustering concepts into modules using unsupervised clustering dendrogram"
   ]
  },
  {
   "cell_type": "code",
   "execution_count": null,
   "metadata": {},
   "outputs": [],
   "source": [
    "# Calculating the distance\n",
    "dist = pdist(df_concepts.T, metric='euclidean')\n",
    "\n",
    "# Calculating the linkage matrix\n",
    "link = linkage(df_concepts.T, method='complete', metric='correlation')\n",
    "\n",
    "# Draw the dendrogram\n",
    "plt.figure(figsize=(50,20))\n",
    "B=dendrogram(link, labels=df_concepts.columns, leaf_font_size=20)"
   ]
  },
  {
   "cell_type": "markdown",
   "metadata": {},
   "source": [
    "### Programming\n",
    "\n",
    "A fundamental course required not only as a basic skill, but also to bridge the gap between theoretical knowledge of statistics, data science, machine learning and practical implementation. Upon completion of the course, the student will be able to: \n",
    "* comfortably program in Python\n",
    "* understand data structures and their uses\n",
    "* use libraries such as numpy, pandas and seaborn with ease\n",
    "* visualize given data\n",
    "* understand and use version control effectively\n",
    "\n",
    "\n",
    "#### COURSE OUTLINE\n",
    "\n",
    "#### Module 1: An introduction to the snake\n",
    "\n",
    "- Fundamentals: Variables, basic algebra\n",
    "- Data structures: Lists, tuples, dictionaries\n",
    "- Functions: Defining a function, input parameters, return statements, recursion\n",
    "- Advanced operations: Aliasing, slicing, copying\n",
    "\n",
    "#### Module 2: An introduction to snake libraries\n",
    "\n",
    "- Numpy: arrays, reshaping, stacking, comparison with lists\n",
    "- Pandas: series, dataframes, loading data, manipulating dataframes\n",
    "\n",
    "#### Module 3: Version control (giving the snake a break)\n",
    "\n",
    "- Necessity for version control\n",
    "- Introduction to git\n",
    "- Version control operations: stage, commit, push, revert, fetch, branch\n",
    "- Github: Creating an account, uploading first repository\n",
    "\n",
    "#### Module 4: Visualizing with the snake\n",
    "\n",
    "- Basic plots: Matplotlib - plotting, essential charts\n",
    "- Advanced plots: Seaborn -  additional plots, advanced operations\n",
    "- Inference from visualization - identification of anomalies and outliers, trends, patterns, and relevant information\n",
    "\n",
    "#### Module 5: You vs. snake\n",
    "\n",
    "- Open-ended project. The user will choose a dataset from Kaggle, and derive useful insights from it. The goal is to get comfortable with all the libraries the user studied throughout the course. Creativity is, as always, encouraged.\n",
    "- Essentials for the project: Pandas, matplotlib, seaborn.\n",
    "- The user MUST use git, with periodic commits while working. The final github repository link should be shared with us."
   ]
  },
  {
   "cell_type": "markdown",
   "metadata": {},
   "source": [
    "# Proof"
   ]
  },
  {
   "cell_type": "code",
   "execution_count": null,
   "metadata": {},
   "outputs": [],
   "source": [
    "df = pd.read_csv('Kaggle_Salary.csv')"
   ]
  },
  {
   "cell_type": "code",
   "execution_count": null,
   "metadata": {},
   "outputs": [],
   "source": []
  }
 ],
 "metadata": {
  "kernelspec": {
   "display_name": "Python 3",
   "language": "python",
   "name": "python3"
  },
  "language_info": {
   "codemirror_mode": {
    "name": "ipython",
    "version": 3
   },
   "file_extension": ".py",
   "mimetype": "text/x-python",
   "name": "python",
   "nbconvert_exporter": "python",
   "pygments_lexer": "ipython3",
   "version": "3.7.4"
  }
 },
 "nbformat": 4,
 "nbformat_minor": 2
}
